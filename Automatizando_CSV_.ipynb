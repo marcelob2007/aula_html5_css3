{
  "nbformat": 4,
  "nbformat_minor": 0,
  "metadata": {
    "colab": {
      "name": "Cópia de Cópia de Automatizando_CSV .ipynb",
      "provenance": [],
      "authorship_tag": "ABX9TyOLN9aelYBJVthIeioMIe87",
      "include_colab_link": true
    },
    "kernelspec": {
      "name": "python3",
      "display_name": "Python 3"
    },
    "language_info": {
      "name": "python"
    }
  },
  "cells": [
    {
      "cell_type": "markdown",
      "metadata": {
        "id": "view-in-github",
        "colab_type": "text"
      },
      "source": [
        "<a href=\"https://colab.research.google.com/github/marcelob2007/aula_html5_css3/blob/master/Automatizando_CSV_.ipynb\" target=\"_parent\"><img src=\"https://colab.research.google.com/assets/colab-badge.svg\" alt=\"Open In Colab\"/></a>"
      ]
    },
    {
      "cell_type": "code",
      "execution_count": null,
      "metadata": {
        "id": "El1zPopOxY-z"
      },
      "outputs": [],
      "source": [
        "import pandas as pd"
      ]
    },
    {
      "cell_type": "code",
      "source": [
        "tabela1 = pd.read_csv('/content/16032022153057_0_1.csv', sep='|', encoding='latin-1')\n",
        "tabela2 = pd.read_csv('/content/16032022153114_0_2.csv', sep='|', encoding='latin-1')\n",
        "tabela3 = pd.read_csv('/content/16032022153108_0_3.csv', sep='|', encoding='latin-1')\n",
        "tabela4 = pd.read_csv('/content/16032022153120_0_4.csv', sep='|', encoding='latin-1')"
      ],
      "metadata": {
        "id": "zzIcU_RfxhJB"
      },
      "execution_count": null,
      "outputs": []
    },
    {
      "cell_type": "code",
      "source": [
        "tabelas = [tabela1,tabela2,tabela3,tabela4]\n",
        "resultado = pd.concat(tabelas)"
      ],
      "metadata": {
        "id": "zKmTpMa_y5W8"
      },
      "execution_count": null,
      "outputs": []
    },
    {
      "cell_type": "code",
      "source": [
        "resultado.to_excel(\"output.xlsx\")"
      ],
      "metadata": {
        "id": "vdk38reI2oQr"
      },
      "execution_count": null,
      "outputs": []
    }
  ]
}